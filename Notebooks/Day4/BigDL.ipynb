{
 "cells": [
  {
   "cell_type": "markdown",
   "metadata": {},
   "source": [
    "# You'll learn\n",
    "\n",
    "## ML methods\n",
    "\n",
    "- Deep NN with BigDL\n",
    "\n",
    "Course [slides](https://github.com/leggerf/MLCourse-2122/blob/master/Slides/Day4/Big%20data%20science%20-%20Day%204%20-%202122.pdf)"
   ]
  },
  {
   "cell_type": "code",
   "execution_count": 1,
   "metadata": {
    "execution": {
     "iopub.execute_input": "2022-03-15T09:46:48.814846Z",
     "iopub.status.busy": "2022-03-15T09:46:48.814064Z",
     "iopub.status.idle": "2022-03-15T09:46:49.838201Z",
     "shell.execute_reply": "2022-03-15T09:46:49.837400Z",
     "shell.execute_reply.started": "2022-03-15T09:46:48.814620Z"
    },
    "tags": []
   },
   "outputs": [],
   "source": [
    "#initial imports\n",
    "%reload_ext custom_magics\n",
    "%load_ext autoreload\n",
    "%autoreload 2\n",
    "\n",
    "import pandas as pd\n",
    "import numpy as np\n",
    "import matplotlib.pyplot as plt\n",
    "%matplotlib inline\n",
    "\n",
    "np.random.seed(1337)  # for reproducibility\n",
    "\n",
    "from custom_functions import *"
   ]
  },
  {
   "cell_type": "code",
   "execution_count": 2,
   "metadata": {
    "execution": {
     "iopub.execute_input": "2022-03-15T09:46:49.840342Z",
     "iopub.status.busy": "2022-03-15T09:46:49.840160Z",
     "iopub.status.idle": "2022-03-15T09:47:23.659156Z",
     "shell.execute_reply": "2022-03-15T09:47:23.658636Z",
     "shell.execute_reply.started": "2022-03-15T09:46:49.840322Z"
    },
    "tags": []
   },
   "outputs": [
    {
     "data": {
      "text/html": [
       "\n",
       "        <div>\n",
       "            <p><b>SparkContext</b></p>\n",
       "\n",
       "            <p><a href=\"http://jupyter-leggerf.jhub.svc.cluster.local:4040\">Spark UI</a></p>\n",
       "\n",
       "            <dl>\n",
       "              <dt>Version</dt>\n",
       "                <dd><code>v3.2.1</code></dd>\n",
       "              <dt>Master</dt>\n",
       "                <dd><code>k8s://https://192.168.2.39:6443</code></dd>\n",
       "              <dt>AppName</dt>\n",
       "                <dd><code>jupyter-leggerf</code></dd>\n",
       "            </dl>\n",
       "        </div>\n",
       "        "
      ],
      "text/plain": [
       "<SparkContext master=k8s://https://192.168.2.39:6443 appName=jupyter-leggerf>"
      ]
     },
     "execution_count": 2,
     "metadata": {},
     "output_type": "execute_result"
    }
   ],
   "source": [
    "num_workers=25 \n",
    "spark=%sc_bigDL $num_workers\n",
    "\n",
    "from pyspark.sql import SparkSession\n",
    "spark_session = SparkSession(spark)\n",
    "\n",
    "#check if spark is there\n",
    "spark\n",
    "#spark._conf.getAll()"
   ]
  },
  {
   "cell_type": "code",
   "execution_count": 3,
   "metadata": {
    "execution": {
     "iopub.execute_input": "2022-03-15T09:47:23.660174Z",
     "iopub.status.busy": "2022-03-15T09:47:23.660005Z",
     "iopub.status.idle": "2022-03-15T09:47:25.218684Z",
     "shell.execute_reply": "2022-03-15T09:47:25.217278Z",
     "shell.execute_reply.started": "2022-03-15T09:47:23.660151Z"
    },
    "tags": []
   },
   "outputs": [
    {
     "name": "stderr",
     "output_type": "stream",
     "text": [
      "/opt/conda/lib/python3.9/site-packages/bigdl/dllib/utils/engine.py:45: UserWarning: Find both SPARK_HOME and pyspark. You may need to check whether they match with each other. SPARK_HOME environment variable is set to: /usr/local/spark, and pyspark is found in: /opt/conda/lib/python3.9/site-packages/pyspark/__init__.py. If they are unmatched, please use one source only to avoid conflict. For example, you can unset SPARK_HOME and use pyspark only.\n",
      "  warnings.warn(warning_msg)\n"
     ]
    }
   ],
   "source": [
    "#init bigDL context\n",
    "\n",
    "from bigdl.dllib.nncontext import *\n",
    "sc = init_nncontext()"
   ]
  },
  {
   "cell_type": "markdown",
   "metadata": {},
   "source": [
    "## Read in input data"
   ]
  },
  {
   "cell_type": "code",
   "execution_count": 4,
   "metadata": {
    "execution": {
     "iopub.execute_input": "2022-03-15T09:47:25.222861Z",
     "iopub.status.busy": "2022-03-15T09:47:25.222340Z",
     "iopub.status.idle": "2022-03-15T09:47:39.416884Z",
     "shell.execute_reply": "2022-03-15T09:47:39.415624Z",
     "shell.execute_reply.started": "2022-03-15T09:47:25.222798Z"
    },
    "tags": []
   },
   "outputs": [
    {
     "name": "stdout",
     "output_type": "stream",
     "text": [
      "There are 9560096 events\n"
     ]
    }
   ],
   "source": [
    "# read in input data\n",
    "\n",
    "#inputFile = 'hdfs://192.168.2.39/data/Higgs100k.parquet'\n",
    "#inputFile = 'hdfs://192.168.2.39/data/Higgs1M.parquet'    # takes 5-10 minutes\n",
    "inputFile = 'hdfs://192.168.2.39/data/Higgs10M.parquet'  # takes about 1 hour to train!!\n",
    "\n",
    "df = spark_session.read.format('parquet').option('header', 'true').option('inferschema', 'true').load(inputFile)\n",
    "\n",
    "total_events = df.count()\n",
    "print('There are '+str(total_events)+' events')"
   ]
  },
  {
   "cell_type": "code",
   "execution_count": 5,
   "metadata": {
    "execution": {
     "iopub.execute_input": "2022-03-15T09:47:39.419530Z",
     "iopub.status.busy": "2022-03-15T09:47:39.419024Z",
     "iopub.status.idle": "2022-03-15T09:47:58.668003Z",
     "shell.execute_reply": "2022-03-15T09:47:58.666539Z",
     "shell.execute_reply.started": "2022-03-15T09:47:39.419468Z"
    },
    "tags": []
   },
   "outputs": [
    {
     "name": "stdout",
     "output_type": "stream",
     "text": [
      "Events for training 7648656\n",
      "Events for validation 1911440\n"
     ]
    }
   ],
   "source": [
    "#split the dataset for training and test\n",
    "train, test = df.randomSplit([0.8,0.2])\n",
    "\n",
    "print('Events for training {}'.format(train.count()))\n",
    "print('Events for validation {}'.format(test.count()))\n",
    "\n",
    "# create input feature vector\n",
    "feature = train.columns\n",
    "feature.remove('label')\n",
    "\n",
    "from pyspark.ml.feature import VectorAssembler\n",
    "\n",
    "#VectorAssembler is a transformer that combines a given list of columns into a single vector column\n",
    "assembler = VectorAssembler(inputCols=feature, outputCol='features')\n",
    "train = assembler.transform(train)\n",
    "test = assembler.transform(test)"
   ]
  },
  {
   "cell_type": "markdown",
   "metadata": {},
   "source": [
    "## Create model"
   ]
  },
  {
   "cell_type": "code",
   "execution_count": 6,
   "metadata": {
    "execution": {
     "iopub.execute_input": "2022-03-15T09:47:58.670606Z",
     "iopub.status.busy": "2022-03-15T09:47:58.670129Z",
     "iopub.status.idle": "2022-03-15T09:47:59.323004Z",
     "shell.execute_reply": "2022-03-15T09:47:59.321836Z",
     "shell.execute_reply.started": "2022-03-15T09:47:58.670546Z"
    },
    "tags": []
   },
   "outputs": [
    {
     "name": "stdout",
     "output_type": "stream",
     "text": [
      "creating: createZooKerasSequential\n",
      "creating: createZooKerasDense\n",
      "creating: createZooKerasDense\n",
      "creating: createZooKerasAdam\n",
      "creating: createDefault\n",
      "creating: createZooKerasBinaryCrossEntropy\n",
      "creating: createZooKerasBinaryAccuracy\n"
     ]
    }
   ],
   "source": [
    "# Create keras-like model: \n",
    "# Only need to change package name from tensorflow.keras to bigdl.dllib.keras\n",
    "# no callbacks in bigDL\n",
    "\n",
    "from bigdl.dllib.keras.layers import *\n",
    "from bigdl.dllib.keras.models import Sequential\n",
    "from bigdl.dllib.utils.common import JTensor\n",
    "\n",
    "from bigdl.dllib.keras.optimizers import Adam\n",
    "from bigdl.dllib.keras.models import Sequential\n",
    "from bigdl.dllib.keras.layers.core import Dense, Activation, Dropout\n",
    "\n",
    "# create the model\n",
    "model = Sequential()\n",
    "model.add(Dense(100, activation='relu', input_shape=(28,)))\n",
    "model.add(Dense(1, activation='sigmoid'))\n",
    "opt = Adam()\n",
    "\n",
    "# Compile model\n",
    "model.compile(loss='binary_crossentropy', optimizer=opt, metrics=['accuracy'])"
   ]
  },
  {
   "cell_type": "code",
   "execution_count": 7,
   "metadata": {
    "execution": {
     "iopub.execute_input": "2022-03-15T09:47:59.325368Z",
     "iopub.status.busy": "2022-03-15T09:47:59.324912Z",
     "iopub.status.idle": "2022-03-15T09:47:59.354142Z",
     "shell.execute_reply": "2022-03-15T09:47:59.353366Z",
     "shell.execute_reply.started": "2022-03-15T09:47:59.325321Z"
    }
   },
   "outputs": [
    {
     "name": "stdout",
     "output_type": "stream",
     "text": [
      "12800\n"
     ]
    }
   ],
   "source": [
    "# Set of hyperparameters\n",
    "numEpochs = 50\n",
    "\n",
    "# The batch used by BigDL must be a multiple of numExecutors * executorCores because data will be equally distributed inside each executor\n",
    "workerBatch = 512\n",
    "numExecutors = int(sc._conf.get('spark.executor.instances'))\n",
    "executorCores = int(sc._conf.get('spark.executor.cores'))\n",
    "\n",
    "BigDLbatch = workerBatch * numExecutors * executorCores\n",
    "\n",
    "print(str(BigDLbatch))"
   ]
  },
  {
   "cell_type": "code",
   "execution_count": 8,
   "metadata": {
    "execution": {
     "iopub.execute_input": "2022-03-15T09:47:59.356008Z",
     "iopub.status.busy": "2022-03-15T09:47:59.355214Z",
     "iopub.status.idle": "2022-03-15T09:47:59.464793Z",
     "shell.execute_reply": "2022-03-15T09:47:59.464195Z",
     "shell.execute_reply.started": "2022-03-15T09:47:59.355959Z"
    },
    "tags": []
   },
   "outputs": [
    {
     "name": "stdout",
     "output_type": "stream",
     "text": [
      "creating: createZooKerasBinaryCrossEntropy\n",
      "creating: createSeqToTensor\n",
      "creating: createSeqToTensor\n",
      "creating: createFeatureLabelPreprocessing\n",
      "creating: createNNEstimator\n",
      "creating: createZooKerasAdam\n",
      "creating: createDefault\n",
      "creating: createEveryEpoch\n",
      "creating: createZooKerasBinaryCrossEntropy\n",
      "creating: createLoss\n"
     ]
    }
   ],
   "source": [
    "# Create SparkML compatible estimator for deep learning training\n",
    "from bigdl.dllib.optim.optimizer import EveryEpoch, Loss, TrainSummary, ValidationSummary\n",
    "from bigdl.dllib.nnframes import *\n",
    "from bigdl.dllib.keras.objectives import BinaryCrossEntropy\n",
    "\n",
    "estimator = NNEstimator(model, BinaryCrossEntropy()) \\\n",
    "        .setOptimMethod(Adam()) \\\n",
    "        .setBatchSize(BigDLbatch) \\\n",
    "        .setMaxEpoch(numEpochs) \\\n",
    "        .setFeaturesCol(\"features\") \\\n",
    "        .setLabelCol(\"label\") \\\n",
    "        .setValidation(trigger=EveryEpoch() , val_df=test, val_method=[Loss(BinaryCrossEntropy())], batch_size=BigDLbatch)"
   ]
  },
  {
   "cell_type": "markdown",
   "metadata": {},
   "source": [
    "## Create directory for logs"
   ]
  },
  {
   "cell_type": "code",
   "execution_count": 9,
   "metadata": {
    "execution": {
     "iopub.execute_input": "2022-03-15T09:47:59.466070Z",
     "iopub.status.busy": "2022-03-15T09:47:59.465812Z",
     "iopub.status.idle": "2022-03-15T09:47:59.556596Z",
     "shell.execute_reply": "2022-03-15T09:47:59.555942Z",
     "shell.execute_reply.started": "2022-03-15T09:47:59.466046Z"
    }
   },
   "outputs": [
    {
     "name": "stdout",
     "output_type": "stream",
     "text": [
      "Saving logs to /home/jovyan/bigDL/Classifier\n",
      "creating: createTrainSummary\n",
      "creating: createValidationSummary\n"
     ]
    },
    {
     "data": {
      "text/plain": [
       "NNEstimator_a9eebb2bed72"
      ]
     },
     "execution_count": 9,
     "metadata": {},
     "output_type": "execute_result"
    }
   ],
   "source": [
    "appName = \"Classifier\"\n",
    "logDir = \"/home/jovyan/bigDL\" \n",
    "\n",
    "# Check if there is already an application with the same name and remove it, otherwise logs will be appended to that app\n",
    "import os\n",
    "try:\n",
    "    os.system('rm -rf '+logDir+'/'+appName)\n",
    "except:\n",
    "    pass\n",
    "\n",
    "print(\"Saving logs to {}\".format(logDir+'/'+appName))\n",
    "\n",
    "trainSummary = TrainSummary(log_dir=logDir,app_name=appName)\n",
    "estimator.setTrainSummary(trainSummary)\n",
    "\n",
    "valSummary = ValidationSummary(log_dir=logDir,app_name=appName)\n",
    "estimator.setValidationSummary(valSummary)"
   ]
  },
  {
   "cell_type": "markdown",
   "metadata": {},
   "source": [
    "## Train model"
   ]
  },
  {
   "cell_type": "code",
   "execution_count": null,
   "metadata": {
    "execution": {
     "iopub.execute_input": "2022-03-15T09:47:59.559319Z",
     "iopub.status.busy": "2022-03-15T09:47:59.559039Z"
    }
   },
   "outputs": [],
   "source": [
    "#keep spark UI close!!! \n",
    "%time trained_model = estimator.fit(train)"
   ]
  },
  {
   "cell_type": "code",
   "execution_count": null,
   "metadata": {},
   "outputs": [],
   "source": [
    "# Predict with trained NNModel using pipeline transform API\n",
    "predDF = trained_model.transform(test)\n",
    "#predDF.printSchema()\n",
    "\n",
    "y_pred = np.asarray(predDF.select(\"prediction\").collect())\n",
    "y_true = np.asarray(test.select('label').collect())"
   ]
  },
  {
   "cell_type": "code",
   "execution_count": null,
   "metadata": {},
   "outputs": [],
   "source": [
    "drawROC2(y_true[:,0], y_pred[:,0])"
   ]
  },
  {
   "cell_type": "code",
   "execution_count": null,
   "metadata": {},
   "outputs": [],
   "source": [
    "#create dataframe in same format as MLlib\n",
    "from pyspark.sql import functions as f\n",
    "\n",
    "#rename prediction to probability (predictions are binary, 0-1)\n",
    "newDF = predDF.withColumn(\"probability\", f.col(\"prediction\"))\n",
    "#overwrite prediction with binary values\n",
    "result = newDF.withColumn('prediction', f.when(f.col(\"probability\")[0]>0.5, 1.).otherwise(0.))\n",
    "#result.select([\"probability\", \"prediction\", \"label\"]).show()"
   ]
  },
  {
   "cell_type": "code",
   "execution_count": null,
   "metadata": {
    "tags": []
   },
   "outputs": [],
   "source": [
    "#plot signal vs background with prediction\n",
    "plotSignalvsBgWithPrediction(test, result,  'm_bb')"
   ]
  },
  {
   "cell_type": "code",
   "execution_count": null,
   "metadata": {},
   "outputs": [],
   "source": [
    "# Plot loss\n",
    "%matplotlib inline\n",
    "\n",
    "import matplotlib.pyplot as plt\n",
    "plt.style.use('seaborn-darkgrid')\n",
    "\n",
    "loss = np.array(trainSummary.read_scalar(\"Loss\"))\n",
    "val_loss = np.array(valSummary.read_scalar(\"Loss\"))\n",
    "\n",
    "plt.plot(loss[:,0], loss[:,1], label=\"Training loss\")\n",
    "plt.plot(val_loss[:,0], val_loss[:,1], label=\"Validation loss\", color='crimson', alpha=0.8)\n",
    "plt.xlabel('Iteration')\n",
    "plt.ylabel('Loss')\n",
    "plt.legend()\n",
    "plt.title(\"Classifier loss\")\n",
    "plt.show()"
   ]
  },
  {
   "cell_type": "code",
   "execution_count": null,
   "metadata": {
    "tags": []
   },
   "outputs": [],
   "source": [
    "#Once done, stop spark\n",
    "spark.stop()"
   ]
  },
  {
   "cell_type": "markdown",
   "metadata": {},
   "source": [
    "# Exercise\n",
    "\n",
    "- play with the model parameters and see if you can improve the performances (try to add dropout layers in case of overfitting).\n",
    "- how is training time affected by the number of parameters?\n",
    "- try to make scaling tests, i.e. training time vs number of workers (do not go above 25!)\n",
    "- compare the performances to the models from the previous days"
   ]
  }
 ],
 "metadata": {
  "kernelspec": {
   "display_name": "bigDL",
   "language": "python",
   "name": "bigdl"
  },
  "language_info": {
   "codemirror_mode": {
    "name": "ipython",
    "version": 3
   },
   "file_extension": ".py",
   "mimetype": "text/x-python",
   "name": "python",
   "nbconvert_exporter": "python",
   "pygments_lexer": "ipython3",
   "version": "3.9.7"
  },
  "sparkconnect": {
   "bundled_options": [],
   "list_of_options": [
    {
     "name": "spark.driver.maxResultSize",
     "value": "0"
    }
   ]
  }
 },
 "nbformat": 4,
 "nbformat_minor": 4
}
