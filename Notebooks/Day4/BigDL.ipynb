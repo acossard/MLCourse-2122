{
 "cells": [
  {
   "cell_type": "markdown",
   "metadata": {},
   "source": [
    "# You'll learn\n",
    "\n",
    "## ML methods\n",
    "\n",
    "- Deep NN with BigDL\n",
    "\n",
    "Course [slides](https://github.com/leggerf/MLCourse-2122/blob/master/Slides/Day4/Big%20data%20science%20-%20Day%204%20-%202122.pdf)"
   ]
  },
  {
   "cell_type": "code",
   "execution_count": 1,
   "metadata": {
    "execution": {
     "iopub.execute_input": "2022-03-15T21:52:11.889408Z",
     "iopub.status.busy": "2022-03-15T21:52:11.888935Z",
     "iopub.status.idle": "2022-03-15T21:52:12.881597Z",
     "shell.execute_reply": "2022-03-15T21:52:12.880782Z",
     "shell.execute_reply.started": "2022-03-15T21:52:11.889278Z"
    },
    "tags": []
   },
   "outputs": [],
   "source": [
    "#initial imports\n",
    "%reload_ext custom_magics\n",
    "%load_ext autoreload\n",
    "%autoreload 2\n",
    "\n",
    "import pandas as pd\n",
    "import numpy as np\n",
    "import matplotlib.pyplot as plt\n",
    "%matplotlib inline\n",
    "\n",
    "np.random.seed(1337)  # for reproducibility\n",
    "\n",
    "from custom_functions import *"
   ]
  },
  {
   "cell_type": "code",
   "execution_count": 2,
   "metadata": {
    "execution": {
     "iopub.execute_input": "2022-03-15T21:52:12.884167Z",
     "iopub.status.busy": "2022-03-15T21:52:12.883453Z",
     "iopub.status.idle": "2022-03-15T21:52:41.454709Z",
     "shell.execute_reply": "2022-03-15T21:52:41.453578Z",
     "shell.execute_reply.started": "2022-03-15T21:52:12.884143Z"
    },
    "tags": []
   },
   "outputs": [
    {
     "data": {
      "text/plain": [
       "[('spark.repl.local.jars',\n",
       "  'file:///opt/conda/lib/python3.9/site-packages/bigdl/share/dllib/lib/bigdl-dllib-spark_3.1.2-2.0.0-jar-with-dependencies.jar'),\n",
       " ('spark.jars',\n",
       "  '/opt/conda/lib/python3.9/site-packages/bigdl/share/dllib/lib/bigdl-dllib-spark_3.1.2-2.0.0-jar-with-dependencies.jar'),\n",
       " ('spark.shuffle.reduceLocality.enabled', 'false'),\n",
       " ('spark.kubernetes.pyspark.pythonVersion', '3'),\n",
       " ('spark.executor.instances', '25'),\n",
       " ('spark.driver.extraClassPath',\n",
       "  '/opt/conda/lib/python3.9/site-packages/sparkmonitor/listener_2.12.jar'),\n",
       " ('spark.cores.max', '1'),\n",
       " ('spark.extraListeners', 'sparkmonitor.listener.JupyterSparkMonitorListener'),\n",
       " ('spark.app.initial.jar.urls',\n",
       "  'spark://jupyter-leggerf.jhub.svc.cluster.local:34782/jars/bigdl-dllib-spark_3.1.2-2.0.0-jar-with-dependencies.jar'),\n",
       " ('spark.app.id', 'spark-application-1647381136317'),\n",
       " ('spark.serializer.objectStreamReset', '100'),\n",
       " ('spark.kubernetes.node.selector.cluster', 'yoga-priv'),\n",
       " ('spark.scheduler.minRegisteredResourcesRatio', '1.0'),\n",
       " ('spark.submit.deployMode', 'client'),\n",
       " ('spark.executorEnv.HADOOP_USER_NAME', 'jovyan'),\n",
       " ('spark.app.name', 'jupyter-leggerf'),\n",
       " ('spark.executor.extraClassPath',\n",
       "  '/opt/conda/lib/python3.9/site-packages/bigdl/share/dllib/lib/bigdl-dllib-spark_3.1.2-2.0.0-jar-with-dependencies.jar'),\n",
       " ('spark.master', 'k8s://https://192.168.2.39:6443'),\n",
       " ('spark.kubernetes.container.image', 'svallero/sparkpy:3.2.1'),\n",
       " ('spark.shuffle.blockTransferService', 'nio'),\n",
       " ('spark.executor.id', 'driver'),\n",
       " ('spark.kubernetes.namespace', 'leggerf'),\n",
       " ('spark.name', 'spark-leggerf'),\n",
       " ('spark.driver.extraJavaOptions',\n",
       "  '-Dio.netty.tryReflectionSetAccessible=true'),\n",
       " ('spark.executor.memory', '6g'),\n",
       " ('spark.kubernetes.executor.podNamePrefix',\n",
       "  'jupyter-leggerf-1e02057f8f9141a2'),\n",
       " ('spark.rdd.compress', 'True'),\n",
       " ('spark.app.startTime', '1647381134855'),\n",
       " ('spark.speculation', 'false'),\n",
       " ('spark.driver.memory', '2g'),\n",
       " ('spark.submit.pyFiles', ''),\n",
       " ('spark.executor.cores', '1'),\n",
       " ('spark.driver.host', 'jupyter-leggerf.jhub.svc.cluster.local'),\n",
       " ('spark.executor.extraJavaOptions',\n",
       "  '-Dio.netty.tryReflectionSetAccessible=true'),\n",
       " ('spark.driver.port', '34782'),\n",
       " ('spark.ui.showConsoleProgress', 'true')]"
      ]
     },
     "execution_count": 2,
     "metadata": {},
     "output_type": "execute_result"
    }
   ],
   "source": [
    "num_workers=25 \n",
    "spark=%sc_bigDL $num_workers\n",
    "\n",
    "from pyspark.sql import SparkSession\n",
    "spark_session = SparkSession(spark)\n",
    "\n",
    "#check if spark is there\n",
    "spark\n",
    "spark._conf.getAll()"
   ]
  },
  {
   "cell_type": "code",
   "execution_count": 3,
   "metadata": {
    "execution": {
     "iopub.execute_input": "2022-03-15T21:52:41.457088Z",
     "iopub.status.busy": "2022-03-15T21:52:41.456607Z",
     "iopub.status.idle": "2022-03-15T21:52:43.155080Z",
     "shell.execute_reply": "2022-03-15T21:52:43.153621Z",
     "shell.execute_reply.started": "2022-03-15T21:52:41.457042Z"
    },
    "tags": []
   },
   "outputs": [
    {
     "name": "stderr",
     "output_type": "stream",
     "text": [
      "/opt/conda/lib/python3.9/site-packages/bigdl/dllib/utils/engine.py:45: UserWarning: Find both SPARK_HOME and pyspark. You may need to check whether they match with each other. SPARK_HOME environment variable is set to: /usr/local/spark, and pyspark is found in: /home/jovyan/.local/lib/python3.9/site-packages/pyspark/__init__.py. If they are unmatched, please use one source only to avoid conflict. For example, you can unset SPARK_HOME and use pyspark only.\n",
      "  warnings.warn(warning_msg)\n"
     ]
    }
   ],
   "source": [
    "#init bigDL context\n",
    "\n",
    "from bigdl.dllib.nncontext import *\n",
    "sc = init_nncontext()"
   ]
  },
  {
   "cell_type": "markdown",
   "metadata": {},
   "source": [
    "## Read in input data"
   ]
  },
  {
   "cell_type": "code",
   "execution_count": 4,
   "metadata": {
    "execution": {
     "iopub.execute_input": "2022-03-15T21:52:43.159563Z",
     "iopub.status.busy": "2022-03-15T21:52:43.158898Z",
     "iopub.status.idle": "2022-03-15T21:53:00.434787Z",
     "shell.execute_reply": "2022-03-15T21:53:00.433722Z",
     "shell.execute_reply.started": "2022-03-15T21:52:43.159498Z"
    },
    "tags": []
   },
   "outputs": [
    {
     "name": "stdout",
     "output_type": "stream",
     "text": [
      "There are 9560096 events\n"
     ]
    }
   ],
   "source": [
    "# read in input data\n",
    "\n",
    "#inputFile = 'hdfs://192.168.2.39/data/Higgs100k.parquet'\n",
    "#inputFile = 'hdfs://192.168.2.39/data/Higgs1M.parquet'    # takes 5-10 minutes\n",
    "inputFile = 'hdfs://192.168.2.39/data/Higgs10M.parquet'  # takes about 1 hour to train!!\n",
    "\n",
    "df = spark_session.read.format('parquet').option('header', 'true').option('inferschema', 'true').load(inputFile)\n",
    "\n",
    "total_events = df.count()\n",
    "print('There are '+str(total_events)+' events')"
   ]
  },
  {
   "cell_type": "code",
   "execution_count": 5,
   "metadata": {
    "execution": {
     "iopub.execute_input": "2022-03-15T21:53:00.436571Z",
     "iopub.status.busy": "2022-03-15T21:53:00.436289Z",
     "iopub.status.idle": "2022-03-15T21:53:20.439013Z",
     "shell.execute_reply": "2022-03-15T21:53:20.438059Z",
     "shell.execute_reply.started": "2022-03-15T21:53:00.436534Z"
    },
    "tags": []
   },
   "outputs": [
    {
     "name": "stdout",
     "output_type": "stream",
     "text": [
      "Events for training 7649379\n",
      "Events for validation 1910717\n"
     ]
    }
   ],
   "source": [
    "#split the dataset for training and test\n",
    "train, test = df.randomSplit([0.8,0.2])\n",
    "\n",
    "print('Events for training {}'.format(train.count()))\n",
    "print('Events for validation {}'.format(test.count()))\n",
    "\n",
    "# create input feature vector\n",
    "feature = train.columns\n",
    "feature.remove('label')\n",
    "\n",
    "from pyspark.ml.feature import VectorAssembler\n",
    "\n",
    "#VectorAssembler is a transformer that combines a given list of columns into a single vector column\n",
    "assembler = VectorAssembler(inputCols=feature, outputCol='features')\n",
    "train = assembler.transform(train)\n",
    "test = assembler.transform(test)"
   ]
  },
  {
   "cell_type": "code",
   "execution_count": 6,
   "metadata": {
    "execution": {
     "iopub.execute_input": "2022-03-15T21:53:20.440190Z",
     "iopub.status.busy": "2022-03-15T21:53:20.439991Z",
     "iopub.status.idle": "2022-03-15T21:53:20.818060Z",
     "shell.execute_reply": "2022-03-15T21:53:20.816341Z",
     "shell.execute_reply.started": "2022-03-15T21:53:20.440164Z"
    }
   },
   "outputs": [
    {
     "name": "stdout",
     "output_type": "stream",
     "text": [
      "Number of partitions: 26\n",
      "Partitioner: None\n"
     ]
    }
   ],
   "source": [
    "#In how many partitions is the dataframe distributed?\n",
    "print(\"Number of partitions: {}\".format(train.rdd.getNumPartitions()))\n",
    "print(\"Partitioner: {}\".format(train.rdd.partitioner))"
   ]
  },
  {
   "cell_type": "markdown",
   "metadata": {},
   "source": [
    "## Create model"
   ]
  },
  {
   "cell_type": "code",
   "execution_count": 7,
   "metadata": {
    "execution": {
     "iopub.execute_input": "2022-03-15T21:53:20.820873Z",
     "iopub.status.busy": "2022-03-15T21:53:20.820287Z",
     "iopub.status.idle": "2022-03-15T21:53:21.728077Z",
     "shell.execute_reply": "2022-03-15T21:53:21.726325Z",
     "shell.execute_reply.started": "2022-03-15T21:53:20.820815Z"
    },
    "tags": []
   },
   "outputs": [
    {
     "name": "stdout",
     "output_type": "stream",
     "text": [
      "creating: createZooKerasSequential\n",
      "creating: createZooKerasDense\n",
      "creating: createZooKerasDense\n",
      "creating: createZooKerasAdam\n",
      "creating: createDefault\n",
      "creating: createZooKerasBinaryCrossEntropy\n",
      "creating: createZooKerasBinaryAccuracy\n"
     ]
    }
   ],
   "source": [
    "# Create keras-like model: \n",
    "# Only need to change package name from tensorflow.keras to bigdl.dllib.keras\n",
    "# no callbacks in bigDL\n",
    "\n",
    "from bigdl.dllib.keras.layers import *\n",
    "from bigdl.dllib.keras.models import Sequential\n",
    "from bigdl.dllib.utils.common import JTensor\n",
    "\n",
    "from bigdl.dllib.keras.optimizers import Adam\n",
    "from bigdl.dllib.keras.models import Sequential\n",
    "from bigdl.dllib.keras.layers.core import Dense, Activation, Dropout\n",
    "\n",
    "# create the model\n",
    "model = Sequential()\n",
    "model.add(Dense(100, activation='relu', input_shape=(28,)))\n",
    "model.add(Dense(1, activation='sigmoid'))\n",
    "opt = Adam()\n",
    "\n",
    "# Compile model\n",
    "model.compile(loss='binary_crossentropy', optimizer=opt, metrics=['accuracy'])"
   ]
  },
  {
   "cell_type": "code",
   "execution_count": 8,
   "metadata": {
    "execution": {
     "iopub.execute_input": "2022-03-15T21:53:21.730031Z",
     "iopub.status.busy": "2022-03-15T21:53:21.729514Z",
     "iopub.status.idle": "2022-03-15T21:53:21.753439Z",
     "shell.execute_reply": "2022-03-15T21:53:21.752792Z",
     "shell.execute_reply.started": "2022-03-15T21:53:21.729959Z"
    },
    "tags": []
   },
   "outputs": [
    {
     "name": "stdout",
     "output_type": "stream",
     "text": [
      "128000\n"
     ]
    }
   ],
   "source": [
    "# Set of hyperparameters\n",
    "numEpochs = 10\n",
    "\n",
    "# The batch used by BigDL must be a multiple of numExecutors * executorCores because data will be equally distributed inside each executor\n",
    "workerBatch = 5120\n",
    "numExecutors = int(sc._conf.get('spark.executor.instances'))\n",
    "executorCores = int(sc._conf.get('spark.executor.cores'))\n",
    "\n",
    "BigDLbatch = workerBatch * numExecutors * executorCores\n",
    "\n",
    "print(str(BigDLbatch))"
   ]
  },
  {
   "cell_type": "code",
   "execution_count": 9,
   "metadata": {
    "execution": {
     "iopub.execute_input": "2022-03-15T21:53:21.754760Z",
     "iopub.status.busy": "2022-03-15T21:53:21.754463Z",
     "iopub.status.idle": "2022-03-15T21:53:21.820391Z",
     "shell.execute_reply": "2022-03-15T21:53:21.819604Z",
     "shell.execute_reply.started": "2022-03-15T21:53:21.754736Z"
    },
    "tags": []
   },
   "outputs": [
    {
     "name": "stdout",
     "output_type": "stream",
     "text": [
      "creating: createZooKerasBinaryCrossEntropy\n",
      "creating: createSeqToTensor\n",
      "creating: createSeqToTensor\n",
      "creating: createFeatureLabelPreprocessing\n",
      "creating: createNNEstimator\n",
      "creating: createZooKerasAdam\n",
      "creating: createDefault\n",
      "creating: createEveryEpoch\n",
      "creating: createZooKerasBinaryCrossEntropy\n",
      "creating: createLoss\n"
     ]
    }
   ],
   "source": [
    "# Create SparkML compatible estimator for deep learning training\n",
    "from bigdl.dllib.optim.optimizer import EveryEpoch, Loss, TrainSummary, ValidationSummary\n",
    "from bigdl.dllib.nnframes import *\n",
    "from bigdl.dllib.keras.objectives import BinaryCrossEntropy\n",
    "\n",
    "estimator = NNEstimator(model, BinaryCrossEntropy()) \\\n",
    "        .setOptimMethod(Adam()) \\\n",
    "        .setBatchSize(BigDLbatch) \\\n",
    "        .setMaxEpoch(numEpochs) \\\n",
    "        .setFeaturesCol(\"features\") \\\n",
    "        .setLabelCol(\"label\") \\\n",
    "        .setValidation(trigger=EveryEpoch() , val_df=test, val_method=[Loss(BinaryCrossEntropy())], batch_size=BigDLbatch)"
   ]
  },
  {
   "cell_type": "markdown",
   "metadata": {},
   "source": [
    "## Create directory for logs"
   ]
  },
  {
   "cell_type": "code",
   "execution_count": 10,
   "metadata": {
    "execution": {
     "iopub.execute_input": "2022-03-15T21:53:21.823611Z",
     "iopub.status.busy": "2022-03-15T21:53:21.823217Z",
     "iopub.status.idle": "2022-03-15T21:53:21.934618Z",
     "shell.execute_reply": "2022-03-15T21:53:21.933463Z",
     "shell.execute_reply.started": "2022-03-15T21:53:21.823578Z"
    },
    "tags": []
   },
   "outputs": [
    {
     "name": "stdout",
     "output_type": "stream",
     "text": [
      "Saving logs to /home/jovyan/bigDL/Classifier\n",
      "creating: createTrainSummary\n",
      "creating: createValidationSummary\n"
     ]
    },
    {
     "data": {
      "text/plain": [
       "NNEstimator_cfe8625a980b"
      ]
     },
     "execution_count": 10,
     "metadata": {},
     "output_type": "execute_result"
    }
   ],
   "source": [
    "appName = \"Classifier\"\n",
    "logDir = \"/home/jovyan/bigDL\" \n",
    "\n",
    "# Check if there is already an application with the same name and remove it, otherwise logs will be appended to that app\n",
    "import os\n",
    "try:\n",
    "    os.system('rm -rf '+logDir+'/'+appName)\n",
    "except:\n",
    "    pass\n",
    "\n",
    "print(\"Saving logs to {}\".format(logDir+'/'+appName))\n",
    "\n",
    "trainSummary = TrainSummary(log_dir=logDir,app_name=appName)\n",
    "estimator.setTrainSummary(trainSummary)\n",
    "\n",
    "valSummary = ValidationSummary(log_dir=logDir,app_name=appName)\n",
    "estimator.setValidationSummary(valSummary)"
   ]
  },
  {
   "cell_type": "markdown",
   "metadata": {},
   "source": [
    "## Train model"
   ]
  },
  {
   "cell_type": "code",
   "execution_count": 11,
   "metadata": {
    "execution": {
     "iopub.execute_input": "2022-03-15T21:53:21.936603Z",
     "iopub.status.busy": "2022-03-15T21:53:21.936315Z",
     "iopub.status.idle": "2022-03-15T22:03:47.198681Z",
     "shell.execute_reply": "2022-03-15T22:03:47.197330Z",
     "shell.execute_reply.started": "2022-03-15T21:53:21.936566Z"
    },
    "tags": []
   },
   "outputs": [
    {
     "name": "stdout",
     "output_type": "stream",
     "text": [
      "creating: createToTuple\n",
      "creating: createChainedPreprocessing\n",
      "CPU times: user 6.32 s, sys: 1.88 s, total: 8.19 s\n",
      "Wall time: 10min 25s\n"
     ]
    }
   ],
   "source": [
    "#keep spark UI close!!! \n",
    "%time trained_model = estimator.fit(train)"
   ]
  },
  {
   "cell_type": "code",
   "execution_count": 12,
   "metadata": {
    "execution": {
     "iopub.execute_input": "2022-03-15T22:03:47.200966Z",
     "iopub.status.busy": "2022-03-15T22:03:47.200714Z",
     "iopub.status.idle": "2022-03-15T22:04:40.013916Z",
     "shell.execute_reply": "2022-03-15T22:04:40.013047Z",
     "shell.execute_reply.started": "2022-03-15T22:03:47.200937Z"
    },
    "tags": []
   },
   "outputs": [],
   "source": [
    "# Predict with trained NNModel using pipeline transform API\n",
    "predDF = trained_model.transform(test)\n",
    "#predDF.printSchema()\n",
    "\n",
    "y_pred = np.asarray(predDF.select(\"prediction\").collect())\n",
    "y_true = np.asarray(test.select('label').collect())"
   ]
  },
  {
   "cell_type": "code",
   "execution_count": 13,
   "metadata": {
    "execution": {
     "iopub.execute_input": "2022-03-15T22:04:40.015222Z",
     "iopub.status.busy": "2022-03-15T22:04:40.015041Z",
     "iopub.status.idle": "2022-03-15T22:04:41.580739Z",
     "shell.execute_reply": "2022-03-15T22:04:41.579776Z",
     "shell.execute_reply.started": "2022-03-15T22:04:40.015202Z"
    },
    "tags": []
   },
   "outputs": [
    {
     "data": {
      "image/png": "[encoded data removed]",
      "text/plain": [
       "<Figure size 432x288 with 1 Axes>"
      ]
     },
     "metadata": {
      "needs_background": "light"
     },
     "output_type": "display_data"
    }
   ],
   "source": [
    "drawROC2(y_true[:,0], y_pred[:,0])"
   ]
  },
  {
   "cell_type": "code",
   "execution_count": 14,
   "metadata": {
    "execution": {
     "iopub.execute_input": "2022-03-15T22:04:41.582391Z",
     "iopub.status.busy": "2022-03-15T22:04:41.582192Z",
     "iopub.status.idle": "2022-03-15T22:04:41.727949Z",
     "shell.execute_reply": "2022-03-15T22:04:41.726472Z",
     "shell.execute_reply.started": "2022-03-15T22:04:41.582367Z"
    },
    "tags": []
   },
   "outputs": [],
   "source": [
    "#create dataframe in same format as MLlib\n",
    "from pyspark.sql import functions as f\n",
    "\n",
    "#rename prediction to probability (predictions are binary, 0-1)\n",
    "newDF = predDF.withColumn(\"probability\", f.col(\"prediction\"))\n",
    "#overwrite prediction with binary values\n",
    "result = newDF.withColumn('prediction', f.when(f.col(\"probability\")[0]>0.5, 1.).otherwise(0.))\n",
    "#result.select([\"probability\", \"prediction\", \"label\"]).show()"
   ]
  },
  {
   "cell_type": "code",
   "execution_count": 15,
   "metadata": {
    "execution": {
     "iopub.execute_input": "2022-03-15T22:04:41.731061Z",
     "iopub.status.busy": "2022-03-15T22:04:41.730398Z",
     "iopub.status.idle": "2022-03-15T22:06:40.197500Z",
     "shell.execute_reply": "2022-03-15T22:06:40.196331Z",
     "shell.execute_reply.started": "2022-03-15T22:04:41.730994Z"
    },
    "tags": []
   },
   "outputs": [
    {
     "data": {
      "image/png": "[encoded data removed]",
      "text/plain": [
       "<Figure size 432x288 with 1 Axes>"
      ]
     },
     "metadata": {
      "needs_background": "light"
     },
     "output_type": "display_data"
    }
   ],
   "source": [
    "#plot signal vs background with prediction\n",
    "plotSignalvsBgWithPrediction(test, result,  'm_bb')"
   ]
  },
  {
   "cell_type": "code",
   "execution_count": 16,
   "metadata": {
    "execution": {
     "iopub.execute_input": "2022-03-15T22:06:40.200046Z",
     "iopub.status.busy": "2022-03-15T22:06:40.199757Z",
     "iopub.status.idle": "2022-03-15T22:06:40.580101Z",
     "shell.execute_reply": "2022-03-15T22:06:40.578048Z",
     "shell.execute_reply.started": "2022-03-15T22:06:40.200011Z"
    },
    "tags": []
   },
   "outputs": [
    {
     "data": {
      "image/png": "[encoded data removed]",
      "text/plain": [
       "<Figure size 432x288 with 1 Axes>"
      ]
     },
     "metadata": {},
     "output_type": "display_data"
    }
   ],
   "source": [
    "# Plot loss\n",
    "%matplotlib inline\n",
    "\n",
    "import matplotlib.pyplot as plt\n",
    "plt.style.use('seaborn-darkgrid')\n",
    "\n",
    "loss = np.array(trainSummary.read_scalar(\"Loss\"))\n",
    "val_loss = np.array(valSummary.read_scalar(\"Loss\"))\n",
    "\n",
    "plt.plot(loss[:,0], loss[:,1], label=\"Training loss\")\n",
    "plt.plot(val_loss[:,0], val_loss[:,1], label=\"Validation loss\", color='crimson', alpha=0.8)\n",
    "plt.xlabel('Iteration')\n",
    "plt.ylabel('Loss')\n",
    "plt.legend()\n",
    "plt.title(\"Classifier loss\")\n",
    "plt.show()"
   ]
  },
  {
   "cell_type": "code",
   "execution_count": 17,
   "metadata": {
    "execution": {
     "iopub.execute_input": "2022-03-15T22:06:40.583983Z",
     "iopub.status.busy": "2022-03-15T22:06:40.583265Z",
     "iopub.status.idle": "2022-03-15T22:06:42.509778Z",
     "shell.execute_reply": "2022-03-15T22:06:42.508977Z",
     "shell.execute_reply.started": "2022-03-15T22:06:40.583917Z"
    },
    "tags": []
   },
   "outputs": [],
   "source": [
    "#Once done, stop spark\n",
    "spark.stop()"
   ]
  },
  {
   "cell_type": "markdown",
   "metadata": {},
   "source": [
    "# Exercise\n",
    "\n",
    "- play with the batch size, how does it affect performances/training time?\n",
    "- play with the model parameters and see if you can improve the performances (try to add dropout layers in case of overfitting).\n",
    "- how is training time affected by the number of parameters?\n",
    "- try to make scaling tests, i.e. training time vs number of workers (do not go above 25!)\n",
    "- compare the performances to the models from the previous days"
   ]
  }
 ],
 "metadata": {
  "kernelspec": {
   "display_name": "PySpark",
   "language": "python",
   "name": "pyspark"
  },
  "language_info": {
   "codemirror_mode": {
    "name": "ipython",
    "version": 3
   },
   "file_extension": ".py",
   "mimetype": "text/x-python",
   "name": "python",
   "nbconvert_exporter": "python",
   "pygments_lexer": "ipython3",
   "version": "3.9.7"
  },
  "sparkconnect": {
   "bundled_options": [],
   "list_of_options": [
    {
     "name": "spark.driver.maxResultSize",
     "value": "0"
    }
   ]
  }
 },
 "nbformat": 4,
 "nbformat_minor": 4
}
